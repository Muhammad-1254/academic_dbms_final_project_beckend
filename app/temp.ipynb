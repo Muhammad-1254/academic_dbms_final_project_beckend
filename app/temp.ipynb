{
 "cells": [
  {
   "cell_type": "code",
   "execution_count": 20,
   "metadata": {},
   "outputs": [
    {
     "name": "stdout",
     "output_type": "stream",
     "text": [
      "id 0\n",
      "d s\n",
      "name usamn\n"
     ]
    }
   ],
   "source": [
    "d = {\n",
    "    \"id\":\"0\",\n",
    "    \"d\":'s',\n",
    "    \"name\":\"usamn\",\n",
    "}\n",
    "for key,value in d.items():\n",
    "    print(key,value),"
   ]
  },
  {
   "cell_type": "code",
   "execution_count": 6,
   "metadata": {},
   "outputs": [],
   "source": [
    "import random\n",
    "\n",
    "randint = random.randint(0,1000000)"
   ]
  },
  {
   "cell_type": "code",
   "execution_count": 15,
   "metadata": {},
   "outputs": [
    {
     "name": "stdout",
     "output_type": "stream",
     "text": [
      "24 hours have not passed.\n"
     ]
    }
   ],
   "source": [
    "import datetime\n",
    "\n",
    "# Function to store the initial timestamp\n",
    "def store_timestamp():\n",
    "    return datetime.datetime.now()\n",
    "\n",
    "# Function to check if 24 hours have passed since the given timestamp\n",
    "def has_24_hours_passed(initial_timestamp):\n",
    "    current_time = datetime.datetime.now()\n",
    "    time_difference = current_time - initial_timestamp\n",
    "    return time_difference.total_seconds() >= 24 * 3600\n",
    "\n",
    "# Example usage:\n",
    "# Store the initial timestamp\n",
    "initial_timestamp = store_timestamp()\n",
    "\n",
    "# Simulate some delay\n",
    "# (in real usage, there would be a significant delay before calling the check function)\n",
    "\n",
    "# Check if 24 hours have passed\n",
    "if has_24_hours_passed(initial_timestamp):\n",
    "    print(\"24 hours have passed.\")\n",
    "else:\n",
    "    print(\"24 hours have not passed.\")\n"
   ]
  },
  {
   "cell_type": "code",
   "execution_count": 19,
   "metadata": {},
   "outputs": [
    {
     "data": {
      "text/plain": [
       "datetime.datetime(2024, 6, 8, 23, 35, 5, 450039)"
      ]
     },
     "execution_count": 19,
     "metadata": {},
     "output_type": "execute_result"
    }
   ],
   "source": [
    "datetime(2024, 6, 8, 23, 35, 5, 450039)"
   ]
  },
  {
   "cell_type": "code",
   "execution_count": 35,
   "metadata": {},
   "outputs": [
    {
     "name": "stdout",
     "output_type": "stream",
     "text": [
      "{'1': ['a', datetime.datetime(2024, 6, 8, 23, 42, 19, 183124)], '5': ['b', datetime.datetime(2024, 6, 4, 23, 42, 21, 186694)], '3': ['123', datetime.datetime(2024, 6, 8, 23, 46, 50, 242463)]}\n"
     ]
    }
   ],
   "source": [
    "import time\n",
    "import datetime\n",
    "\n",
    "d = {\n",
    "    \"1\": [\"a\", datetime.datetime(2024, 6, 8, 23, 42, 19, 183124)],\n",
    "    \"5\": [\"b\", datetime.datetime(2024, 6, 4, 23, 42, 21, 186694)],\n",
    "    \"3\": [\"c\", datetime.datetime(2024, 6, 8, 23, 42, 23, 188729)],\n",
    "}\n",
    "\n",
    "\n",
    "\n",
    "# for key,value in d.items():\n",
    "#     if key == \"5\":\n",
    "#         if has_24_hours_passed(d[key][1]):\n",
    "#             print(\"yes\")\n",
    "            \n",
    "#         else:\n",
    "#             print(\"no\")\n",
    "\n",
    "# generate new token replace old\n",
    "for key,value in d.items():\n",
    "    if key == \"3\":\n",
    "        v = [\"123\", datetime.datetime.now()]\n",
    "        d[key] = v\n",
    "print(d)"
   ]
  },
  {
   "cell_type": "code",
   "execution_count": 6,
   "metadata": {},
   "outputs": [],
   "source": [
    "import numpy as np\n",
    "# d = {\n",
    "#     \"1\": [\"a\", datetime.datetime(2024, 6, 8, 23, 42, 19, 183124)],\n",
    "#     \"5\": [\"b\", datetime.datetime(2024, 6, 4, 23, 42, 21, 186694)],\n",
    "#     \"3\": [\"c\", datetime.datetime(2024, 6, 8, 23, 42, 23, 188729)],\n",
    "# }\n",
    "\n",
    "np.save(\"temp/auth_tokens.npy\", {}, allow_pickle=True)"
   ]
  },
  {
   "cell_type": "code",
   "execution_count": 7,
   "metadata": {},
   "outputs": [
    {
     "data": {
      "text/plain": [
       "{}"
      ]
     },
     "execution_count": 7,
     "metadata": {},
     "output_type": "execute_result"
    }
   ],
   "source": [
    "np.load('temp/auth_tokens.npy', allow_pickle=True).item()"
   ]
  },
  {
   "cell_type": "code",
   "execution_count": 51,
   "metadata": {},
   "outputs": [
    {
     "name": "stdout",
     "output_type": "stream",
     "text": [
      "['123212', datetime.datetime(2024, 6, 8, 23, 55, 9, 385876)]\n"
     ]
    }
   ],
   "source": [
    "def generate_new_auth_token(user_id:str):\n",
    "    token_file = np.load('data.npy', allow_pickle=True).item()\n",
    "    for key,value in token_file.items():\n",
    "        if key == user_id:\n",
    "            new_token = [\"123212\", datetime.datetime.now()]\n",
    "            token_file[key] = new_token\n",
    "            np.save(\"data.npy\", token_file)\n",
    "            return new_token\n",
    "        \n",
    "print(generate_new_auth_token(\"5\")\n",
    ")"
   ]
  },
  {
   "cell_type": "code",
   "execution_count": 59,
   "metadata": {},
   "outputs": [
    {
     "data": {
      "text/plain": [
       "{'123': 'a'}"
      ]
     },
     "execution_count": 59,
     "metadata": {},
     "output_type": "execute_result"
    }
   ],
   "source": [
    "a = {}\n",
    "a['123'] = \"a\"\n",
    "\n",
    "a"
   ]
  },
  {
   "cell_type": "markdown",
   "metadata": {},
   "source": []
  },
  {
   "cell_type": "code",
   "execution_count": 57,
   "metadata": {},
   "outputs": [
    {
     "name": "stdout",
     "output_type": "stream",
     "text": [
      "0\n",
      "None\n"
     ]
    }
   ],
   "source": [
    "def generate_new_auth_token(user_id:str):\n",
    "    token_file = np.load('data.npy', allow_pickle=True).item()\n",
    "    token_file\n",
    "    for key,value in token_file.items():\n",
    "        if key == user_id:\n",
    "            new_token = [\"123212\", datetime.datetime.now()]\n",
    "            token_file[key] = new_token\n",
    "            np.save(\"data.npy\", token_file)\n",
    "            return new_token\n",
    "        \n",
    "    print(len(token_file))\n",
    "print(generate_new_auth_token(\"5\")\n",
    ")"
   ]
  },
  {
   "cell_type": "code",
   "execution_count": 1,
   "metadata": {},
   "outputs": [],
   "source": [
    "user_credentials=  {\"email\": \"2\", \"password\": \"hashed:123\", \"role\": \"user\"}"
   ]
  },
  {
   "cell_type": "code",
   "execution_count": 3,
   "metadata": {},
   "outputs": [
    {
     "data": {
      "text/plain": [
       "'123'"
      ]
     },
     "execution_count": 3,
     "metadata": {},
     "output_type": "execute_result"
    }
   ],
   "source": [
    "person_password = user_credentials[\"password\"].split(\":\")[1]\n",
    "person_password"
   ]
  },
  {
   "cell_type": "code",
   "execution_count": 1,
   "metadata": {},
   "outputs": [
    {
     "name": "stdout",
     "output_type": "stream",
     "text": [
      "****1. Set up and configure the SDK:****\n",
      "Credentials:  dixda8etb 623182473499643 \n",
      "\n"
     ]
    }
   ],
   "source": [
    "# Import the Cloudinary libraries\n",
    "# ==============================\n",
    "import cloudinary\n",
    "from cloudinary import CloudinaryImage\n",
    "import cloudinary.uploader\n",
    "import cloudinary.api\n",
    "\n",
    "\n",
    "def initialize_cloudinary():\n",
    "    # Configure Cloudinary\n",
    "    config = cloudinary.config(\n",
    "    cloud_name='dixda8etb',\n",
    "    api_key='623182473499643',\n",
    "    api_secret='b3aYz5IcU8PlDaD8Vdx7rX22Pxk'\n",
    ")\n",
    "    # config = cloudinary.config(secure=True)\n",
    "    print(\"****1. Set up and configure the SDK:****\\nCredentials: \", config.cloud_name, config.api_key, \"\\n\")\n",
    "\n",
    "\n",
    "initialize_cloudinary()"
   ]
  },
  {
   "cell_type": "code",
   "execution_count": 7,
   "metadata": {},
   "outputs": [
    {
     "data": {
      "text/plain": [
       "datetime.date(2024, 6, 10)"
      ]
     },
     "execution_count": 7,
     "metadata": {},
     "output_type": "execute_result"
    }
   ],
   "source": [
    "import datetime\n",
    "datetime.datetime.date(datetime.datetime.now())"
   ]
  }
 ],
 "metadata": {
  "kernelspec": {
   "display_name": "mix",
   "language": "python",
   "name": "python3"
  },
  "language_info": {
   "codemirror_mode": {
    "name": "ipython",
    "version": 3
   },
   "file_extension": ".py",
   "mimetype": "text/x-python",
   "name": "python",
   "nbconvert_exporter": "python",
   "pygments_lexer": "ipython3",
   "version": "3.10.14"
  }
 },
 "nbformat": 4,
 "nbformat_minor": 2
}
